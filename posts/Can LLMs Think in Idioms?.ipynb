{
 "cells": [
  {
   "cell_type": "raw",
   "id": "049f0395-e1df-472a-bc21-6a123e53de8f",
   "metadata": {},
   "source": [
    "---\n",
    "title: \"Can LLMs Think in Idioms?\"\n",
    "description: \"Testing ChatGPTs Figurative Understanding\" \n",
    "author: \"Chino\"\n",
    "date: \"03/05/2025\"\n",
    "categories:\n",
    "  - LLMs\n",
    "  - English\n",
    "---"
   ]
  },
  {
   "cell_type": "markdown",
   "id": "ba129c23-e551-47fe-900e-248d3c83c56e",
   "metadata": {},
   "source": [
    "ChatGPT and other language models are incredibly skilled at producing human-like text, but how well do they perform when it comes to processing idiomatic language? Idioms—phrases where meaning is not directly derived from their constituent words—challenge the mettle of AI. Idioms require cultural and contextual knowledge, unlike literal phrases. Let's test this.\n",
    "\n",
    "The Experiment\n",
    "\n",
    "I asked ChatGPT the following:\n",
    "“Can you use ‘kick the bucket’ in a sentence?”\n",
    "\n",
    "The response:\n",
    "“After a long and happy life, the old sailor finally kicked the bucket.”\n",
    "This is a correct use of the idiom, meaning “to die.” So far, so good.\n",
    "\n",
    "Next, I tested whether the model could recognize idiomatic misuse:\n",
    "“I was so thirsty, I kicked the bucket and drank all the water.”\n",
    "\n",
    "ChatGPT corrected my usage:\n",
    "“That doesn’t quite fit. ‘Kick the bucket’ means to die, so if you’re thirsty, you might say ‘I was so thirsty, I drank the entire bottle of water.’”\n",
    "This suggests the model has a strong grasp of idioms, at least common ones.\n",
    "\n",
    "Where It Falls Short\n",
    "\n",
    "However, when I tried a less common idiom—“spill the beans”—in a tricky sentence:\n",
    "“I love cooking, so I always spill the beans in my kitchen.”\n",
    "\n",
    "ChatGPT didn't flag this as incorrect and instead responded with:\n",
    "“That’s great! Cooking is a wonderful skill to have.”\n",
    "This reveals an occasional gap: while the model recognizes widely used idioms, it sometimes fails to identify them in unusual or misleading contexts.\n",
    "\n",
    "Final Takeaways\n",
    "LLMs are excellent at sensing and using idioms in conventional usage. But they still struggle with:\n",
    "- Rare idioms\n",
    "- Detecting idioms when the situation is complex or ambiguous\n",
    "\n",
    "As AI models get better, maybe we will get more contextual intuition, but as things work out currently, idioms are one area where human instincts still enjoy a significant edge.\n",
    "\n",
    "Would you let AI make your next stand up comedy? Let me know what you think!\n"
   ]
  }
 ],
 "metadata": {
  "kernelspec": {
   "display_name": "Python 3-12 (COMM4190)",
   "language": "python",
   "name": "python3-12_comm4190"
  },
  "language_info": {
   "codemirror_mode": {
    "name": "ipython",
    "version": 3
   },
   "file_extension": ".py",
   "mimetype": "text/x-python",
   "name": "python",
   "nbconvert_exporter": "python",
   "pygments_lexer": "ipython3",
   "version": "3.12.8"
  }
 },
 "nbformat": 4,
 "nbformat_minor": 5
}
