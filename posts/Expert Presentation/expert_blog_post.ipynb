{
 "cells": [
  {
   "cell_type": "raw",
   "id": "1c4143d6-fadd-4543-b45f-f09b621ded86",
   "metadata": {},
   "source": [
    "---\n",
    "title: \"Dallas\"\n",
    "description: \"Chino's expert presentation on Dallas\"\n",
    "author: \"Chino Anyadiegwu\"\n",
    "date: \"2/12/2025\"\n",
    "categories:\n",
    "---"
   ]
  },
  {
   "cell_type": "markdown",
   "id": "65f6b136-5df8-4561-806e-9e0219471bd6",
   "metadata": {},
   "source": [
    "Dallas is a large city in North Texas. Home to the Dallas Cowboys, Mavericks, and other teams. Dallas has great food, in particular, tex-mex, BBQ, and more. It is also one of the fastest growing cities currently."
   ]
  }
 ],
 "metadata": {
  "citation-manager": {
   "items": {}
  },
  "kernelspec": {
   "display_name": "Python 3-12 (COMM4190)",
   "language": "python",
   "name": "python3-12_comm4190"
  },
  "language_info": {
   "codemirror_mode": {
    "name": "ipython",
    "version": 3
   },
   "file_extension": ".py",
   "mimetype": "text/x-python",
   "name": "python",
   "nbconvert_exporter": "python",
   "pygments_lexer": "ipython3",
   "version": "3.12.8"
  }
 },
 "nbformat": 4,
 "nbformat_minor": 5
}
