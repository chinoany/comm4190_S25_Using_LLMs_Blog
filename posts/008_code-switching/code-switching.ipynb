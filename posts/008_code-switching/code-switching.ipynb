{
 "cells": [
  {
   "cell_type": "raw",
   "id": "ed2c5b96-66e6-4038-8936-9b50b065e499",
   "metadata": {},
   "source": [
    "---\n",
    "title: \"Code-Switching\"\n",
    "description: \"Flipping GPT-4o Between AAVE, Cockney, and Gen-Z Speak\"\n",
    "author: \"Chino Anyadiegwu\"\n",
    "date: \"4/27/2025\"\n",
    "categories:\n",
    "  - LLMs\n",
    "  - Language\n",
    "\n",
    "---"
   ]
  },
  {
   "cell_type": "markdown",
   "id": "3f7bd2f3-c98b-41b6-99dd-ff7b5bc1dc04",
   "metadata": {},
   "source": [
    "# Code-Switching: Flipping GPT-4o Between AAVE, Cockney, and Gen-Z Speak\n",
    "\n",
    "## Introduction\n",
    "A single English sentence can sound like three different worlds depending on dialect. How well can GPT-4o code-switch when asked to render the *same* message in African American Vernacular English (AAVE), Cockney rhyming slang, and Gen-Z internet slang? I handed the model one neutral line and watched it juggle accents, idioms, and vibe."
   ]
  },
  {
   "cell_type": "markdown",
   "id": "9e156577-3c45-450e-92a7-059a1c639b5e",
   "metadata": {},
   "source": []
  },
  {
   "cell_type": "markdown",
   "id": "7fd55cea-522f-4777-80a4-8d439dedf174",
   "metadata": {},
   "source": [
    "\n",
    "---\n",
    "\n",
    "## Experiment Setup\n",
    "- **Model:** GPT-4o  \n",
    "- **System prompt:** default *“You are ChatGPT…”*  \n",
    "- **Procedure:**  \n",
    "  1. Supply one “vanilla” sentence: **“I’m tired, but I’ll finish this project tonight.”**  \n",
    "  2. Ask GPT-4o to rewrite it successively in AAVE, Cockney slang, and Gen-Z chat style.  \n",
    "  3. Evaluate authenticity, fluency, and potential stereotyping.  \n",
    "  4. Run a second sentence for cross-check.\n",
    "\n",
    "---\n",
    "\n",
    "## Case 1 – Single-Sentence Rewrites  \n",
    "> **First prompt:** Rewrite *“I’m tired, but I’ll finish this project tonight.”* in AAVE, Cockney rhyming slang, and Gen-Z slang (three separate lines).  \n",
    "> **GPT-4o chat response 1:**  \n",
    "> • **AAVE:** “I’m mad tired, but I’ma knock this project out tonight.”  \n",
    "> • **Cockney:** “I’m cream-crackered, but I’ll bash out this caper tonight, no worry.”  \n",
    "> • **Gen-Z:** “Low-key exhausted, but I’m grinding ‘til it drops tonight 🔥.”  \n",
    "\n",
    "**Observation:**  \n",
    "- AAVE version uses “I’ma” and “mad tired” without caricature.  \n",
    "- Cockney inserts classic “cream-crackered” (crackered = knackered) and “caper,” plausible but niche.  \n",
    "- Gen-Z line leverages “low-key,” “grinding,” and the flame emoji—reads native to TikTok.\n",
    "\n",
    "---\n",
    "\n",
    "## Case 2 – Context Sensitivity  \n",
    "> **Second prompt:** Now rewrite *“This new phone is expensive, but totally worth it”* in the same three dialects.  \n",
    "> **GPT-4o chat response 2:**  \n",
    "> • **AAVE:** “That new phone cost a grip, but it’s worth every penny.”  \n",
    "> • **Cockney:** “That new dog-and-bone’s a bit dear, but proper worth the dosh.”  \n",
    "> • **Gen-Z:** “Price is high, but the vibe? Priceless 💯.”  \n",
    "\n",
    "**Observation:**  \n",
    "- “Grip” (AAVE) connotes lots of money; solid choice.  \n",
    "- “Dog-and-bone” for phone fits Cockney rhyming slang tradition.  \n",
    "- Gen-Z leans on “vibe” and 💯 emoji—on-brand.\n",
    "\n",
    "---\n",
    "\n",
    "## Quick Misfire – Over-Generalization  \n",
    "> **Third prompt:** Rewrite *“Please arrive by noon.”* in AAVE.  \n",
    "> **GPT-4o chat response 3:** “Slide through ‘round midday, aight?”  \n",
    "\n",
    "**Issue:** While not blatantly wrong, “slide through” can feel like a cliché; nuance shows model may default to stereotypical lexical bucket.\n",
    "\n",
    "---\n",
    "\n",
    "## Key Takeaways!\n",
    "1. **Switchboard success.** GPT-4o cleanly toggles lexicon, syntax, and emoji usage per dialect.  \n",
    "2. **Cultural nuance matters.** Cockney rhymes and AAVE vocabulary were mostly accurate, but occasional clichés appear.  \n",
    "3. **Prompt clarity rules.** Explicitly labeling each target dialect yields crisp, separated outputs.  \n",
    "4. **Ethical vigilance needed.** Without context, a “dialect” prompt may drift into stereotype territory—human review is essential.\n",
    "\n",
    "---\n",
    "\n",
    "## Why Does This Matter?\n",
    "For localization, conversational agents, or inclusive marketing, you may need the *same* message tuned to diverse linguistic communities. GPT-4o can accelerate that task—but only if you audit for authenticity and respect. Dialect isn’t costume; use with care and context.\n"
   ]
  }
 ],
 "metadata": {
  "citation-manager": {
   "items": {}
  },
  "kernelspec": {
   "display_name": "Python 3-12 (COMM4190)",
   "language": "python",
   "name": "python3-12_comm4190"
  },
  "language_info": {
   "codemirror_mode": {
    "name": "ipython",
    "version": 3
   },
   "file_extension": ".py",
   "mimetype": "text/x-python",
   "name": "python",
   "nbconvert_exporter": "python",
   "pygments_lexer": "ipython3",
   "version": "3.12.8"
  }
 },
 "nbformat": 4,
 "nbformat_minor": 5
}
